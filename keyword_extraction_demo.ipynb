{
 "cells": [
  {
   "cell_type": "markdown",
   "metadata": {},
   "source": [
    "# 키워드 추출 모델 비교 및 테스트\n",
    "\n",
    "이 노트북에서는 TF-IDF, YAKE, RAKE, KeyBERT 모델을 사용하여 키워드 추출을 수행하고 성능을 비교합니다."
   ]
  },
  {
   "cell_type": "markdown",
   "metadata": {},
   "source": [
    "## 1. 라이브러리 임포트"
   ]
  },
  {
   "cell_type": "code",
   "execution_count": null,
   "metadata": {},
   "outputs": [],
   "source": [
    "# 필요한 라이브러리 임포트\n",
    "import pandas as pd\n",
    "import numpy as np\n",
    "import matplotlib.pyplot as plt\n",
    "import seaborn as sns\n",
    "from typing import List, Dict\n",
    "import time\n",
    "import warnings\n",
    "warnings.filterwarnings('ignore')\n",
    "\n",
    "# 커스텀 모듈 임포트\n",
    "from data_loader import DataLoader\n",
    "from tfidf_extractor import TFIDFKeywordExtractor\n",
    "from yake_extractor import YAKEKeywordExtractor\n",
    "from rake_extractor import RAKEKeywordExtractor\n",
    "from keybert_extractor import KeyBERTKeywordExtractor\n",
    "\n",
    "# 시각화 설정\n",
    "plt.style.use('default')\n",
    "sns.set_palette(\"husl\")\n",
    "plt.rcParams['figure.figsize'] = (12, 8)"
   ]
  },
  {
   "cell_type": "markdown",
   "metadata": {},
   "source": [
    "## 2. 데이터 로드 및 탐색"
   ]
  },
  {
   "cell_type": "code",
   "execution_count": null,
   "metadata": {},
   "outputs": [],
   "source": [
    "# 데이터 로더 초기화\n",
    "data_loader = DataLoader('./clean_data.csv')\n",
    "\n",
    "print(f\"전체 문서 수: {data_loader.get_total_documents():,}\")\n",
    "\n",
    "# 샘플 문서 확인\n",
    "sample_doc = data_loader.get_document_by_index(0)\n",
    "print(f\"\\n첫 번째 문서 (처음 200자):\")\n",
    "print(f\"{sample_doc[:200]}...\")"
   ]
  },
  {
   "cell_type": "markdown",
   "metadata": {},
   "source": [
    "## 3. 키워드 추출기 초기화"
   ]
  },
  {
   "cell_type": "code",
   "execution_count": null,
   "metadata": {},
   "outputs": [],
   "source": [
    "# 모든 키워드 추출기 초기화\n",
    "print(\"키워드 추출기 초기화 중...\")\n",
    "\n",
    "extractors = {\n",
    "    'TF-IDF': TFIDFKeywordExtractor(),\n",
    "    'YAKE': YAKEKeywordExtractor(),\n",
    "    'RAKE': RAKEKeywordExtractor(),\n",
    "    'KeyBERT': KeyBERTKeywordExtractor()\n",
    "}\n",
    "\n",
    "print(\"초기화 완료!\")"
   ]
  },
  {
   "cell_type": "markdown",
   "metadata": {},
   "source": [
    "## 4. 단일 문서 키워드 추출 예제"
   ]
  },
  {
   "cell_type": "code",
   "execution_count": null,
   "metadata": {},
   "outputs": [],
   "source": [
    "# 테스트용 문서 선택\n",
    "test_doc_idx = 100\n",
    "test_document = data_loader.get_document_by_index(test_doc_idx)\n",
    "\n",
    "print(f\"테스트 문서 (인덱스: {test_doc_idx}):\")\n",
    "print(f\"{test_document[:300]}...\")\n",
    "print(\"\\n\" + \"=\"*80)\n",
    "\n",
    "# 각 모델별 키워드 추출\n",
    "for model_name, extractor in extractors.items():\n",
    "    print(f\"\\n[{model_name}]\")\n",
    "    start_time = time.time()\n",
    "    \n",
    "    try:\n",
    "        keywords_with_scores = extractor.extract_keywords(test_document, 5)\n",
    "        keywords_only = extractor.get_keywords_only(test_document, 5)\n",
    "        end_time = time.time()\n",
    "        \n",
    "        print(f\"키워드: {keywords_only}\")\n",
    "        print(f\"처리 시간: {end_time - start_time:.3f}초\")\n",
    "        \n",
    "        if keywords_with_scores:\n",
    "            print(\"상세 점수:\")\n",
    "            for i, (keyword, score) in enumerate(keywords_with_scores, 1):\n",
    "                print(f\"  {i}. {keyword}: {score:.4f}\")\n",
    "                \n",
    "    except Exception as e:\n",
    "        print(f\"오류 발생: {e}\")"
   ]
  },
  {
   "cell_type": "markdown",
   "metadata": {},
   "source": [
    "## 5. 다중 문서 성능 비교"
   ]
  },
  {
   "cell_type": "code",
   "execution_count": null,
   "metadata": {},
   "outputs": [],
   "source": [
    "# 성능 테스트용 랜덤 문서 선택\n",
    "n_test_docs = 20\n",
    "test_docs = data_loader.get_random_documents(n_test_docs)\n",
    "\n",
    "print(f\"{n_test_docs}개 문서로 성능 테스트 시작...\")\n",
    "\n",
    "# 결과 저장용 딕셔너리\n",
    "performance_results = {\n",
    "    model_name: {\n",
    "        'times': [],\n",
    "        'success_count': 0,\n",
    "        'total_keywords': 0,\n",
    "        'keyword_examples': []\n",
    "    } for model_name in extractors.keys()\n",
    "}\n",
    "\n",
    "# 각 문서에 대해 테스트 수행\n",
    "for i, (doc_idx, document) in enumerate(test_docs):\n",
    "    print(f\"\\r문서 {i+1}/{n_test_docs} 처리 중...\", end='')\n",
    "    \n",
    "    for model_name, extractor in extractors.items():\n",
    "        start_time = time.time()\n",
    "        \n",
    "        try:\n",
    "            keywords = extractor.get_keywords_only(document, 5)\n",
    "            end_time = time.time()\n",
    "            \n",
    "            processing_time = end_time - start_time\n",
    "            performance_results[model_name]['times'].append(processing_time)\n",
    "            \n",
    "            if keywords:\n",
    "                performance_results[model_name]['success_count'] += 1\n",
    "                performance_results[model_name]['total_keywords'] += len(keywords)\n",
    "                if len(performance_results[model_name]['keyword_examples']) < 3:\n",
    "                    performance_results[model_name]['keyword_examples'].append(keywords)\n",
    "                    \n",
    "        except Exception as e:\n",
    "            end_time = time.time()\n",
    "            performance_results[model_name]['times'].append(end_time - start_time)\n",
    "\n",
    "print(\"\\n완료!\")"
   ]
  },
  {
   "cell_type": "markdown",
   "metadata": {},
   "source": [
    "## 6. 성능 결과 분석"
   ]
  },
  {
   "cell_type": "code",
   "execution_count": null,
   "metadata": {},
   "outputs": [],
   "source": [
    "# 성능 통계 계산\n",
    "performance_stats = {}\n",
    "\n",
    "for model_name, results in performance_results.items():\n",
    "    times = results['times']\n",
    "    success_rate = results['success_count'] / n_test_docs * 100\n",
    "    avg_keywords = results['total_keywords'] / results['success_count'] if results['success_count'] > 0 else 0\n",
    "    \n",
    "    performance_stats[model_name] = {\n",
    "        'avg_time': np.mean(times),\n",
    "        'median_time': np.median(times),\n",
    "        'std_time': np.std(times),\n",
    "        'success_rate': success_rate,\n",
    "        'avg_keywords': avg_keywords\n",
    "    }\n",
    "\n",
    "# 결과 DataFrame 생성\n",
    "stats_df = pd.DataFrame(performance_stats).T\n",
    "print(\"성능 비교 결과:\")\n",
    "print(stats_df.round(4))"
   ]
  },
  {
   "cell_type": "markdown",
   "metadata": {},
   "source": [
    "## 7. 시각화"
   ]
  },
  {
   "cell_type": "code",
   "execution_count": null,
   "metadata": {},
   "outputs": [],
   "source": [
    "# 처리 시간 비교 박스플롯\n",
    "fig, ((ax1, ax2), (ax3, ax4)) = plt.subplots(2, 2, figsize=(15, 12))\n",
    "\n",
    "# 1. 처리 시간 박스플롯\n",
    "time_data = [performance_results[model]['times'] for model in extractors.keys()]\n",
    "ax1.boxplot(time_data, labels=extractors.keys())\n",
    "ax1.set_title('모델별 처리 시간 분포')\n",
    "ax1.set_ylabel('처리 시간 (초)')\n",
    "ax1.tick_params(axis='x', rotation=45)\n",
    "\n",
    "# 2. 평균 처리 시간 막대 그래프\n",
    "models = list(performance_stats.keys())\n",
    "avg_times = [performance_stats[model]['avg_time'] for model in models]\n",
    "bars = ax2.bar(models, avg_times, color=['skyblue', 'lightgreen', 'lightcoral', 'lightsalmon'])\n",
    "ax2.set_title('모델별 평균 처리 시간')\n",
    "ax2.set_ylabel('평균 처리 시간 (초)')\n",
    "ax2.tick_params(axis='x', rotation=45)\n",
    "\n",
    "# 막대 위에 값 표시\n",
    "for bar, time_val in zip(bars, avg_times):\n",
    "    ax2.text(bar.get_x() + bar.get_width()/2, bar.get_height() + 0.001, \n",
    "             f'{time_val:.3f}', ha='center', va='bottom')\n",
    "\n",
    "# 3. 성공률 비교\n",
    "success_rates = [performance_stats[model]['success_rate'] for model in models]\n",
    "bars = ax3.bar(models, success_rates, color=['gold', 'lightblue', 'lightpink', 'lightsteelblue'])\n",
    "ax3.set_title('모델별 성공률')\n",
    "ax3.set_ylabel('성공률 (%)')\n",
    "ax3.set_ylim(0, 105)\n",
    "ax3.tick_params(axis='x', rotation=45)\n",
    "\n",
    "# 막대 위에 값 표시\n",
    "for bar, rate in zip(bars, success_rates):\n",
    "    ax3.text(bar.get_x() + bar.get_width()/2, bar.get_height() + 1, \n",
    "             f'{rate:.1f}%', ha='center', va='bottom')\n",
    "\n",
    "# 4. 평균 키워드 수\n",
    "avg_keywords = [performance_stats[model]['avg_keywords'] for model in models]\n",
    "bars = ax4.bar(models, avg_keywords, color=['mediumpurple', 'mediumseagreen', 'tomato', 'orange'])\n",
    "ax4.set_title('모델별 평균 키워드 수')\n",
    "ax4.set_ylabel('평균 키워드 수')\n",
    "ax4.tick_params(axis='x', rotation=45)\n",
    "\n",
    "# 막대 위에 값 표시\n",
    "for bar, kw_count in zip(bars, avg_keywords):\n",
    "    ax4.text(bar.get_x() + bar.get_width()/2, bar.get_height() + 0.05, \n",
    "             f'{kw_count:.1f}', ha='center', va='bottom')\n",
    "\n",
    "plt.tight_layout()\n",
    "plt.show()"
   ]
  },
  {
   "cell_type": "markdown",
   "metadata": {},
   "source": [
    "## 8. 키워드 예시 비교"
   ]
  },
  {
   "cell_type": "code",
   "execution_count": null,
   "metadata": {},
   "outputs": [],
   "source": [
    "# 각 모델의 키워드 추출 예시 출력\n",
    "print(\"모델별 키워드 추출 예시:\")\n",
    "print(\"=\" * 80)\n",
    "\n",
    "for model_name, results in performance_results.items():\n",
    "    print(f\"\\n[{model_name}]\")\n",
    "    examples = results['keyword_examples']\n",
    "    \n",
    "    if examples:\n",
    "        for i, keywords in enumerate(examples, 1):\n",
    "            print(f\"  예시 {i}: {keywords}\")\n",
    "    else:\n",
    "        print(\"  추출된 예시가 없습니다.\")"
   ]
  },
  {
   "cell_type": "markdown",
   "metadata": {},
   "source": [
    "## 9. 모델 추천 및 결론"
   ]
  },
  {
   "cell_type": "code",
   "execution_count": null,
   "metadata": {},
   "outputs": [],
   "source": [
    "# 모델 순위 계산\n",
    "print(\"모델 성능 순위:\")\n",
    "print(\"=\" * 50)\n",
    "\n",
    "# 속도 순위 (빠른 순)\n",
    "speed_ranking = sorted(performance_stats.items(), key=lambda x: x[1]['avg_time'])\n",
    "print(\"\\n속도 순위 (빠른 순):\")\n",
    "for i, (model, stats) in enumerate(speed_ranking, 1):\n",
    "    print(f\"  {i}. {model}: {stats['avg_time']:.3f}초\")\n",
    "\n",
    "# 성공률 순위 (높은 순)\n",
    "success_ranking = sorted(performance_stats.items(), key=lambda x: x[1]['success_rate'], reverse=True)\n",
    "print(\"\\n성공률 순위 (높은 순):\")\n",
    "for i, (model, stats) in enumerate(success_ranking, 1):\n",
    "    print(f\"  {i}. {model}: {stats['success_rate']:.1f}%\")\n",
    "\n",
    "# 종합 추천\n",
    "print(\"\\n\" + \"=\" * 50)\n",
    "print(\"모델 추천:\")\n",
    "print(\"=\" * 50)\n",
    "\n",
    "fastest_model = speed_ranking[0][0]\n",
    "most_reliable = success_ranking[0][0]\n",
    "\n",
    "print(f\"\\n• 빠른 처리가 필요한 경우: {fastest_model}\")\n",
    "print(f\"• 안정적인 결과가 필요한 경우: {most_reliable}\")\n",
    "print(f\"• 고품질 키워드가 필요한 경우: KeyBERT (의미론적 분석)\")\n",
    "print(f\"• 실시간 처리가 필요한 경우: RAKE 또는 YAKE\")\n",
    "\n",
    "print(\"\\n결론:\")\n",
    "print(\"- TF-IDF: 안정적이고 빠른 전통적 방법\")\n",
    "print(\"- YAKE: 비지도 학습, 빠른 처리, 다국어 지원\")\n",
    "print(\"- RAKE: 가장 빠른 처리, 구문 정보 활용\")\n",
    "print(\"- KeyBERT: 최고 품질, 의미론적 유사성, 느린 처리\")"
   ]
  },
  {
   "cell_type": "markdown",
   "metadata": {},
   "source": [
    "## 10. 사용자 정의 테스트"
   ]
  },
  {
   "cell_type": "code",
   "execution_count": null,
   "metadata": {},
   "outputs": [],
   "source": [
    "# 사용자가 직접 문서 인덱스를 입력하여 테스트\n",
    "def test_custom_document(doc_index: int):\n",
    "    \"\"\"사용자 지정 문서 테스트 함수\"\"\"\n",
    "    document = data_loader.get_document_by_index(doc_index)\n",
    "    \n",
    "    if document is None:\n",
    "        print(f\"문서 인덱스 {doc_index}를 찾을 수 없습니다.\")\n",
    "        return\n",
    "    \n",
    "    print(f\"문서 {doc_index} 키워드 추출 결과:\")\n",
    "    print(f\"문서 내용: {document[:200]}...\")\n",
    "    print(\"-\" * 60)\n",
    "    \n",
    "    for model_name, extractor in extractors.items():\n",
    "        try:\n",
    "            keywords = extractor.get_keywords_only(document, 5)\n",
    "            print(f\"{model_name:8}: {keywords}\")\n",
    "        except Exception as e:\n",
    "            print(f\"{model_name:8}: 오류 - {e}\")\n",
    "\n",
    "# 예시 테스트 (원하는 인덱스로 변경 가능)\n",
    "test_custom_document(500)"
   ]
  },
  {
   "cell_type": "code",
   "execution_count": null,
   "metadata": {},
   "outputs": [],
   "source": [
    "# 사용자 정의 텍스트로 테스트\n",
    "custom_text = \"\"\"\n",
    "Artificial intelligence and machine learning have revolutionized the way we process and analyze data.\n",
    "Deep learning models, particularly neural networks, have shown remarkable performance in natural language processing,\n",
    "computer vision, and speech recognition tasks. These technologies are now being applied in various domains\n",
    "including healthcare, finance, and autonomous systems.\n",
    "\"\"\"\n",
    "\n",
    "print(\"사용자 정의 텍스트 키워드 추출:\")\n",
    "print(f\"텍스트: {custom_text.strip()}\")\n",
    "print(\"-\" * 60)\n",
    "\n",
    "for model_name, extractor in extractors.items():\n",
    "    try:\n",
    "        keywords = extractor.get_keywords_only(custom_text, 5)\n",
    "        print(f\"{model_name:8}: {keywords}\")\n",
    "    except Exception as e:\n",
    "        print(f\"{model_name:8}: 오류 - {e}\")"
   ]
  }
 ],
 "metadata": {
  "kernelspec": {
   "display_name": "Python 3",
   "language": "python",
   "name": "python3"
  },
  "language_info": {
   "codemirror_mode": {
    "name": "ipython",
    "version": 3
   },
   "file_extension": ".py",
   "mimetype": "text/x-python",
   "name": "python",
   "nbconvert_exporter": "python",
   "pygments_lexer": "ipython3",
   "version": "3.8.5"
  }
 },
 "nbformat": 4,
 "nbformat_minor": 4
}
